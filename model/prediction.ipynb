{
 "cells": [
  {
   "cell_type": "code",
   "execution_count": 1,
   "id": "86eb9f20",
   "metadata": {},
   "outputs": [],
   "source": [
    "import pandas as pd\n",
    "import numpy as np\n",
    "\n",
    "import matplotlib.pyplot as plt\n",
    "import seaborn as sns\n",
    "\n",
    "from sklearn.compose import ColumnTransformer\n",
    "from sklearn.preprocessing import OrdinalEncoder\n",
    "from sklearn.preprocessing import OneHotEncoder\n",
    "from sklearn.preprocessing import StandardScaler\n",
    "from sklearn.preprocessing import LabelEncoder\n",
    "\n",
    "from sklearn.model_selection import train_test_split\n",
    "from sklearn.feature_selection import SelectKBest, chi2\n",
    "\n",
    "from sklearn.pipeline import Pipeline\n",
    "\n",
    "from sklearn.linear_model import LogisticRegression\n",
    "from sklearn.svm import SVC\n",
    "from sklearn.neighbors import KNeighborsClassifier\n",
    "from sklearn.tree import DecisionTreeClassifier\n",
    "from sklearn.ensemble import RandomForestClassifier\n",
    "from sklearn.ensemble import GradientBoostingClassifier\n",
    "from sklearn.ensemble import HistGradientBoostingClassifier\n",
    "\n",
    "from sklearn.metrics import confusion_matrix\n",
    "from sklearn.metrics import accuracy_score\n",
    "from sklearn.metrics import roc_auc_score"
   ]
  },
  {
   "cell_type": "code",
   "execution_count": 2,
   "id": "ac25496e",
   "metadata": {},
   "outputs": [],
   "source": [
    "df = pd.read_csv('employee_churn_data.csv')"
   ]
  },
  {
   "cell_type": "markdown",
   "id": "dcf206fc",
   "metadata": {},
   "source": [
    "<p>\"department\" - the department the employee belongs to.<br>\n",
    "\"promoted\" - 1 if the employee was promoted in the previous 24 months, 0 otherwise.<br>\n",
    "\"review\" - the composite score the employee received in their last evaluation.<br>\n",
    "\"projects\" - how many projects the employee is involved in.<br>\n",
    "\"salary\" - for confidentiality reasons, salary comes in three tiers: low, medium, high.<br>\n",
    "\"tenure\" - how many years the employee has been at the company.<br>\n",
    "\"satisfaction\" - a measure of employee satisfaction from surveys.<br>\n",
    "\"bonus\" - 1 if the employee received a bonus in the previous 24 months, 0 otherwise.<br>\n",
    "\"avg_hrs_month\" - the average hours the employee worked in a month.<br>\n",
    "\"left\" - \"yes\" if the employee ended up leaving, \"no\" otherwise.</p>"
   ]
  },
  {
   "cell_type": "markdown",
   "id": "d5246493",
   "metadata": {},
   "source": [
    "<!-- \"department\" - the department the employee belongs to.\n",
    "\"promoted\" - 1 if the employee was promoted in the previous 24 months, 0 otherwise.\n",
    "\"review\" - the composite score the employee received in their last evaluation.\n",
    "\"projects\" - how many projects the employee is involved in.\n",
    "\"salary\" - for confidentiality reasons, salary comes in three tiers: low, medium, high.\n",
    "\"tenure\" - how many years the employee has been at the company.\n",
    "\"satisfaction\" - a measure of employee satisfaction from surveys.\n",
    "\"bonus\" - 1 if the employee received a bonus in the previous 24 months, 0 otherwise.\n",
    "\"avg_hrs_month\" - the average hours the employee worked in a month.\n",
    "\"left\" - \"yes\" if the employee ended up leaving, \"no\" otherwise. -->"
   ]
  },
  {
   "cell_type": "code",
   "execution_count": 4,
   "id": "c3f3b023",
   "metadata": {
    "scrolled": true
   },
   "outputs": [
    {
     "data": {
      "text/html": [
       "<div>\n",
       "<style scoped>\n",
       "    .dataframe tbody tr th:only-of-type {\n",
       "        vertical-align: middle;\n",
       "    }\n",
       "\n",
       "    .dataframe tbody tr th {\n",
       "        vertical-align: top;\n",
       "    }\n",
       "\n",
       "    .dataframe thead th {\n",
       "        text-align: right;\n",
       "    }\n",
       "</style>\n",
       "<table border=\"1\" class=\"dataframe\">\n",
       "  <thead>\n",
       "    <tr style=\"text-align: right;\">\n",
       "      <th></th>\n",
       "      <th>department</th>\n",
       "      <th>promoted</th>\n",
       "      <th>review</th>\n",
       "      <th>projects</th>\n",
       "      <th>salary</th>\n",
       "      <th>tenure</th>\n",
       "      <th>satisfaction</th>\n",
       "      <th>bonus</th>\n",
       "      <th>avg_hrs_month</th>\n",
       "      <th>left</th>\n",
       "    </tr>\n",
       "  </thead>\n",
       "  <tbody>\n",
       "    <tr>\n",
       "      <th>0</th>\n",
       "      <td>operations</td>\n",
       "      <td>0</td>\n",
       "      <td>0.577569</td>\n",
       "      <td>3</td>\n",
       "      <td>low</td>\n",
       "      <td>5.0</td>\n",
       "      <td>0.626759</td>\n",
       "      <td>0</td>\n",
       "      <td>180.866070</td>\n",
       "      <td>no</td>\n",
       "    </tr>\n",
       "    <tr>\n",
       "      <th>1</th>\n",
       "      <td>operations</td>\n",
       "      <td>0</td>\n",
       "      <td>0.751900</td>\n",
       "      <td>3</td>\n",
       "      <td>medium</td>\n",
       "      <td>6.0</td>\n",
       "      <td>0.443679</td>\n",
       "      <td>0</td>\n",
       "      <td>182.708149</td>\n",
       "      <td>no</td>\n",
       "    </tr>\n",
       "    <tr>\n",
       "      <th>2</th>\n",
       "      <td>support</td>\n",
       "      <td>0</td>\n",
       "      <td>0.722548</td>\n",
       "      <td>3</td>\n",
       "      <td>medium</td>\n",
       "      <td>6.0</td>\n",
       "      <td>0.446823</td>\n",
       "      <td>0</td>\n",
       "      <td>184.416084</td>\n",
       "      <td>no</td>\n",
       "    </tr>\n",
       "    <tr>\n",
       "      <th>3</th>\n",
       "      <td>logistics</td>\n",
       "      <td>0</td>\n",
       "      <td>0.675158</td>\n",
       "      <td>4</td>\n",
       "      <td>high</td>\n",
       "      <td>8.0</td>\n",
       "      <td>0.440139</td>\n",
       "      <td>0</td>\n",
       "      <td>188.707545</td>\n",
       "      <td>no</td>\n",
       "    </tr>\n",
       "    <tr>\n",
       "      <th>4</th>\n",
       "      <td>sales</td>\n",
       "      <td>0</td>\n",
       "      <td>0.676203</td>\n",
       "      <td>3</td>\n",
       "      <td>high</td>\n",
       "      <td>5.0</td>\n",
       "      <td>0.577607</td>\n",
       "      <td>1</td>\n",
       "      <td>179.821083</td>\n",
       "      <td>no</td>\n",
       "    </tr>\n",
       "  </tbody>\n",
       "</table>\n",
       "</div>"
      ],
      "text/plain": [
       "   department  promoted    review  projects  salary  tenure  satisfaction  \\\n",
       "0  operations         0  0.577569         3     low     5.0      0.626759   \n",
       "1  operations         0  0.751900         3  medium     6.0      0.443679   \n",
       "2     support         0  0.722548         3  medium     6.0      0.446823   \n",
       "3   logistics         0  0.675158         4    high     8.0      0.440139   \n",
       "4       sales         0  0.676203         3    high     5.0      0.577607   \n",
       "\n",
       "   bonus  avg_hrs_month left  \n",
       "0      0     180.866070   no  \n",
       "1      0     182.708149   no  \n",
       "2      0     184.416084   no  \n",
       "3      0     188.707545   no  \n",
       "4      1     179.821083   no  "
      ]
     },
     "execution_count": 4,
     "metadata": {},
     "output_type": "execute_result"
    }
   ],
   "source": [
    "df.head()"
   ]
  },
  {
   "cell_type": "code",
   "execution_count": 5,
   "id": "49caab96",
   "metadata": {},
   "outputs": [
    {
     "name": "stdout",
     "output_type": "stream",
     "text": [
      "<class 'pandas.core.frame.DataFrame'>\n",
      "RangeIndex: 9540 entries, 0 to 9539\n",
      "Data columns (total 10 columns):\n",
      " #   Column         Non-Null Count  Dtype  \n",
      "---  ------         --------------  -----  \n",
      " 0   department     9540 non-null   object \n",
      " 1   promoted       9540 non-null   int64  \n",
      " 2   review         9540 non-null   float64\n",
      " 3   projects       9540 non-null   int64  \n",
      " 4   salary         9540 non-null   object \n",
      " 5   tenure         9540 non-null   float64\n",
      " 6   satisfaction   9540 non-null   float64\n",
      " 7   bonus          9540 non-null   int64  \n",
      " 8   avg_hrs_month  9540 non-null   float64\n",
      " 9   left           9540 non-null   object \n",
      "dtypes: float64(4), int64(3), object(3)\n",
      "memory usage: 745.4+ KB\n"
     ]
    }
   ],
   "source": [
    "df.info()"
   ]
  },
  {
   "cell_type": "code",
   "execution_count": 6,
   "id": "2da2b78b",
   "metadata": {},
   "outputs": [
    {
     "data": {
      "text/html": [
       "<div>\n",
       "<style scoped>\n",
       "    .dataframe tbody tr th:only-of-type {\n",
       "        vertical-align: middle;\n",
       "    }\n",
       "\n",
       "    .dataframe tbody tr th {\n",
       "        vertical-align: top;\n",
       "    }\n",
       "\n",
       "    .dataframe thead th {\n",
       "        text-align: right;\n",
       "    }\n",
       "</style>\n",
       "<table border=\"1\" class=\"dataframe\">\n",
       "  <thead>\n",
       "    <tr style=\"text-align: right;\">\n",
       "      <th></th>\n",
       "      <th>promoted</th>\n",
       "      <th>review</th>\n",
       "      <th>projects</th>\n",
       "      <th>tenure</th>\n",
       "      <th>satisfaction</th>\n",
       "      <th>bonus</th>\n",
       "      <th>avg_hrs_month</th>\n",
       "    </tr>\n",
       "  </thead>\n",
       "  <tbody>\n",
       "    <tr>\n",
       "      <th>count</th>\n",
       "      <td>9540.000000</td>\n",
       "      <td>9540.000000</td>\n",
       "      <td>9540.000000</td>\n",
       "      <td>9540.000000</td>\n",
       "      <td>9540.000000</td>\n",
       "      <td>9540.000000</td>\n",
       "      <td>9540.000000</td>\n",
       "    </tr>\n",
       "    <tr>\n",
       "      <th>mean</th>\n",
       "      <td>0.030294</td>\n",
       "      <td>0.651826</td>\n",
       "      <td>3.274843</td>\n",
       "      <td>6.556184</td>\n",
       "      <td>0.504645</td>\n",
       "      <td>0.212055</td>\n",
       "      <td>184.661571</td>\n",
       "    </tr>\n",
       "    <tr>\n",
       "      <th>std</th>\n",
       "      <td>0.171403</td>\n",
       "      <td>0.085307</td>\n",
       "      <td>0.579136</td>\n",
       "      <td>1.415432</td>\n",
       "      <td>0.158555</td>\n",
       "      <td>0.408785</td>\n",
       "      <td>4.144831</td>\n",
       "    </tr>\n",
       "    <tr>\n",
       "      <th>min</th>\n",
       "      <td>0.000000</td>\n",
       "      <td>0.310000</td>\n",
       "      <td>2.000000</td>\n",
       "      <td>2.000000</td>\n",
       "      <td>0.000000</td>\n",
       "      <td>0.000000</td>\n",
       "      <td>171.374060</td>\n",
       "    </tr>\n",
       "    <tr>\n",
       "      <th>25%</th>\n",
       "      <td>0.000000</td>\n",
       "      <td>0.592884</td>\n",
       "      <td>3.000000</td>\n",
       "      <td>5.000000</td>\n",
       "      <td>0.386801</td>\n",
       "      <td>0.000000</td>\n",
       "      <td>181.472085</td>\n",
       "    </tr>\n",
       "    <tr>\n",
       "      <th>50%</th>\n",
       "      <td>0.000000</td>\n",
       "      <td>0.647456</td>\n",
       "      <td>3.000000</td>\n",
       "      <td>7.000000</td>\n",
       "      <td>0.500786</td>\n",
       "      <td>0.000000</td>\n",
       "      <td>184.628796</td>\n",
       "    </tr>\n",
       "    <tr>\n",
       "      <th>75%</th>\n",
       "      <td>0.000000</td>\n",
       "      <td>0.708379</td>\n",
       "      <td>4.000000</td>\n",
       "      <td>8.000000</td>\n",
       "      <td>0.622607</td>\n",
       "      <td>0.000000</td>\n",
       "      <td>187.728708</td>\n",
       "    </tr>\n",
       "    <tr>\n",
       "      <th>max</th>\n",
       "      <td>1.000000</td>\n",
       "      <td>1.000000</td>\n",
       "      <td>5.000000</td>\n",
       "      <td>12.000000</td>\n",
       "      <td>1.000000</td>\n",
       "      <td>1.000000</td>\n",
       "      <td>200.861656</td>\n",
       "    </tr>\n",
       "  </tbody>\n",
       "</table>\n",
       "</div>"
      ],
      "text/plain": [
       "          promoted       review     projects       tenure  satisfaction  \\\n",
       "count  9540.000000  9540.000000  9540.000000  9540.000000   9540.000000   \n",
       "mean      0.030294     0.651826     3.274843     6.556184      0.504645   \n",
       "std       0.171403     0.085307     0.579136     1.415432      0.158555   \n",
       "min       0.000000     0.310000     2.000000     2.000000      0.000000   \n",
       "25%       0.000000     0.592884     3.000000     5.000000      0.386801   \n",
       "50%       0.000000     0.647456     3.000000     7.000000      0.500786   \n",
       "75%       0.000000     0.708379     4.000000     8.000000      0.622607   \n",
       "max       1.000000     1.000000     5.000000    12.000000      1.000000   \n",
       "\n",
       "             bonus  avg_hrs_month  \n",
       "count  9540.000000    9540.000000  \n",
       "mean      0.212055     184.661571  \n",
       "std       0.408785       4.144831  \n",
       "min       0.000000     171.374060  \n",
       "25%       0.000000     181.472085  \n",
       "50%       0.000000     184.628796  \n",
       "75%       0.000000     187.728708  \n",
       "max       1.000000     200.861656  "
      ]
     },
     "execution_count": 6,
     "metadata": {},
     "output_type": "execute_result"
    }
   ],
   "source": [
    "df.describe()"
   ]
  },
  {
   "cell_type": "code",
   "execution_count": 7,
   "id": "787f3ce9",
   "metadata": {},
   "outputs": [
    {
     "data": {
      "text/plain": [
       "department       0\n",
       "promoted         0\n",
       "review           0\n",
       "projects         0\n",
       "salary           0\n",
       "tenure           0\n",
       "satisfaction     0\n",
       "bonus            0\n",
       "avg_hrs_month    0\n",
       "left             0\n",
       "dtype: int64"
      ]
     },
     "execution_count": 7,
     "metadata": {},
     "output_type": "execute_result"
    }
   ],
   "source": [
    "df.isnull().sum()"
   ]
  },
  {
   "cell_type": "code",
   "execution_count": 8,
   "id": "58d8e18c",
   "metadata": {},
   "outputs": [
    {
     "data": {
      "text/plain": [
       "0"
      ]
     },
     "execution_count": 8,
     "metadata": {},
     "output_type": "execute_result"
    }
   ],
   "source": [
    "df.duplicated().sum()"
   ]
  },
  {
   "cell_type": "code",
   "execution_count": 9,
   "id": "89d23f3a",
   "metadata": {},
   "outputs": [
    {
     "data": {
      "text/plain": [
       "(9540, 10)"
      ]
     },
     "execution_count": 9,
     "metadata": {},
     "output_type": "execute_result"
    }
   ],
   "source": [
    "df.shape"
   ]
  },
  {
   "cell_type": "code",
   "execution_count": 10,
   "id": "d3930af5",
   "metadata": {},
   "outputs": [
    {
     "data": {
      "text/html": [
       "<div>\n",
       "<style scoped>\n",
       "    .dataframe tbody tr th:only-of-type {\n",
       "        vertical-align: middle;\n",
       "    }\n",
       "\n",
       "    .dataframe tbody tr th {\n",
       "        vertical-align: top;\n",
       "    }\n",
       "\n",
       "    .dataframe thead th {\n",
       "        text-align: right;\n",
       "    }\n",
       "</style>\n",
       "<table border=\"1\" class=\"dataframe\">\n",
       "  <thead>\n",
       "    <tr style=\"text-align: right;\">\n",
       "      <th></th>\n",
       "      <th>department</th>\n",
       "      <th>promoted</th>\n",
       "      <th>review</th>\n",
       "      <th>projects</th>\n",
       "      <th>salary</th>\n",
       "      <th>tenure</th>\n",
       "      <th>satisfaction</th>\n",
       "      <th>bonus</th>\n",
       "      <th>avg_hrs_month</th>\n",
       "      <th>left</th>\n",
       "    </tr>\n",
       "  </thead>\n",
       "  <tbody>\n",
       "    <tr>\n",
       "      <th>9535</th>\n",
       "      <td>operations</td>\n",
       "      <td>0</td>\n",
       "      <td>0.610988</td>\n",
       "      <td>4</td>\n",
       "      <td>medium</td>\n",
       "      <td>8.0</td>\n",
       "      <td>0.543641</td>\n",
       "      <td>0</td>\n",
       "      <td>188.155738</td>\n",
       "      <td>yes</td>\n",
       "    </tr>\n",
       "    <tr>\n",
       "      <th>9536</th>\n",
       "      <td>logistics</td>\n",
       "      <td>0</td>\n",
       "      <td>0.746887</td>\n",
       "      <td>3</td>\n",
       "      <td>medium</td>\n",
       "      <td>8.0</td>\n",
       "      <td>0.549048</td>\n",
       "      <td>0</td>\n",
       "      <td>188.176164</td>\n",
       "      <td>yes</td>\n",
       "    </tr>\n",
       "    <tr>\n",
       "      <th>9537</th>\n",
       "      <td>operations</td>\n",
       "      <td>0</td>\n",
       "      <td>0.557980</td>\n",
       "      <td>3</td>\n",
       "      <td>low</td>\n",
       "      <td>7.0</td>\n",
       "      <td>0.705425</td>\n",
       "      <td>0</td>\n",
       "      <td>186.531008</td>\n",
       "      <td>yes</td>\n",
       "    </tr>\n",
       "    <tr>\n",
       "      <th>9538</th>\n",
       "      <td>IT</td>\n",
       "      <td>0</td>\n",
       "      <td>0.584446</td>\n",
       "      <td>4</td>\n",
       "      <td>medium</td>\n",
       "      <td>8.0</td>\n",
       "      <td>0.607287</td>\n",
       "      <td>1</td>\n",
       "      <td>187.641370</td>\n",
       "      <td>yes</td>\n",
       "    </tr>\n",
       "    <tr>\n",
       "      <th>9539</th>\n",
       "      <td>finance</td>\n",
       "      <td>0</td>\n",
       "      <td>0.626373</td>\n",
       "      <td>3</td>\n",
       "      <td>low</td>\n",
       "      <td>7.0</td>\n",
       "      <td>0.706455</td>\n",
       "      <td>1</td>\n",
       "      <td>185.920934</td>\n",
       "      <td>yes</td>\n",
       "    </tr>\n",
       "  </tbody>\n",
       "</table>\n",
       "</div>"
      ],
      "text/plain": [
       "      department  promoted    review  projects  salary  tenure  satisfaction  \\\n",
       "9535  operations         0  0.610988         4  medium     8.0      0.543641   \n",
       "9536   logistics         0  0.746887         3  medium     8.0      0.549048   \n",
       "9537  operations         0  0.557980         3     low     7.0      0.705425   \n",
       "9538          IT         0  0.584446         4  medium     8.0      0.607287   \n",
       "9539     finance         0  0.626373         3     low     7.0      0.706455   \n",
       "\n",
       "      bonus  avg_hrs_month left  \n",
       "9535      0     188.155738  yes  \n",
       "9536      0     188.176164  yes  \n",
       "9537      0     186.531008  yes  \n",
       "9538      1     187.641370  yes  \n",
       "9539      1     185.920934  yes  "
      ]
     },
     "execution_count": 10,
     "metadata": {},
     "output_type": "execute_result"
    }
   ],
   "source": [
    "df.tail()"
   ]
  },
  {
   "cell_type": "code",
   "execution_count": 11,
   "id": "932fd855",
   "metadata": {},
   "outputs": [
    {
     "data": {
      "text/plain": [
       "<function matplotlib.pyplot.show(close=None, block=None)>"
      ]
     },
     "execution_count": 11,
     "metadata": {},
     "output_type": "execute_result"
    },
    {
     "data": {
      "image/png": "[encoded data removed]",
      "text/plain": [
       "<Figure size 576x432 with 2 Axes>"
      ]
     },
     "metadata": {
      "needs_background": "light"
     },
     "output_type": "display_data"
    }
   ],
   "source": [
    "plt.figure(figsize=(8,6))\n",
    "sns.heatmap(df.corr(), annot=True, cmap ='RdYlGn')\n",
    "plt.show"
   ]
  },
  {
   "cell_type": "code",
   "execution_count": 12,
   "id": "b7c9d6cd",
   "metadata": {},
   "outputs": [
    {
     "data": {
      "text/html": [
       "<div>\n",
       "<style scoped>\n",
       "    .dataframe tbody tr th:only-of-type {\n",
       "        vertical-align: middle;\n",
       "    }\n",
       "\n",
       "    .dataframe tbody tr th {\n",
       "        vertical-align: top;\n",
       "    }\n",
       "\n",
       "    .dataframe thead th {\n",
       "        text-align: right;\n",
       "    }\n",
       "</style>\n",
       "<table border=\"1\" class=\"dataframe\">\n",
       "  <thead>\n",
       "    <tr style=\"text-align: right;\">\n",
       "      <th></th>\n",
       "      <th>department</th>\n",
       "      <th>promoted</th>\n",
       "      <th>review</th>\n",
       "      <th>projects</th>\n",
       "      <th>salary</th>\n",
       "      <th>tenure</th>\n",
       "      <th>satisfaction</th>\n",
       "      <th>bonus</th>\n",
       "      <th>avg_hrs_month</th>\n",
       "      <th>left</th>\n",
       "    </tr>\n",
       "  </thead>\n",
       "  <tbody>\n",
       "    <tr>\n",
       "      <th>0</th>\n",
       "      <td>operations</td>\n",
       "      <td>0</td>\n",
       "      <td>0.577569</td>\n",
       "      <td>3</td>\n",
       "      <td>low</td>\n",
       "      <td>5.0</td>\n",
       "      <td>0.626759</td>\n",
       "      <td>0</td>\n",
       "      <td>180.866070</td>\n",
       "      <td>no</td>\n",
       "    </tr>\n",
       "    <tr>\n",
       "      <th>1</th>\n",
       "      <td>operations</td>\n",
       "      <td>0</td>\n",
       "      <td>0.751900</td>\n",
       "      <td>3</td>\n",
       "      <td>medium</td>\n",
       "      <td>6.0</td>\n",
       "      <td>0.443679</td>\n",
       "      <td>0</td>\n",
       "      <td>182.708149</td>\n",
       "      <td>no</td>\n",
       "    </tr>\n",
       "    <tr>\n",
       "      <th>2</th>\n",
       "      <td>support</td>\n",
       "      <td>0</td>\n",
       "      <td>0.722548</td>\n",
       "      <td>3</td>\n",
       "      <td>medium</td>\n",
       "      <td>6.0</td>\n",
       "      <td>0.446823</td>\n",
       "      <td>0</td>\n",
       "      <td>184.416084</td>\n",
       "      <td>no</td>\n",
       "    </tr>\n",
       "    <tr>\n",
       "      <th>3</th>\n",
       "      <td>logistics</td>\n",
       "      <td>0</td>\n",
       "      <td>0.675158</td>\n",
       "      <td>4</td>\n",
       "      <td>high</td>\n",
       "      <td>8.0</td>\n",
       "      <td>0.440139</td>\n",
       "      <td>0</td>\n",
       "      <td>188.707545</td>\n",
       "      <td>no</td>\n",
       "    </tr>\n",
       "    <tr>\n",
       "      <th>4</th>\n",
       "      <td>sales</td>\n",
       "      <td>0</td>\n",
       "      <td>0.676203</td>\n",
       "      <td>3</td>\n",
       "      <td>high</td>\n",
       "      <td>5.0</td>\n",
       "      <td>0.577607</td>\n",
       "      <td>1</td>\n",
       "      <td>179.821083</td>\n",
       "      <td>no</td>\n",
       "    </tr>\n",
       "  </tbody>\n",
       "</table>\n",
       "</div>"
      ],
      "text/plain": [
       "   department  promoted    review  projects  salary  tenure  satisfaction  \\\n",
       "0  operations         0  0.577569         3     low     5.0      0.626759   \n",
       "1  operations         0  0.751900         3  medium     6.0      0.443679   \n",
       "2     support         0  0.722548         3  medium     6.0      0.446823   \n",
       "3   logistics         0  0.675158         4    high     8.0      0.440139   \n",
       "4       sales         0  0.676203         3    high     5.0      0.577607   \n",
       "\n",
       "   bonus  avg_hrs_month left  \n",
       "0      0     180.866070   no  \n",
       "1      0     182.708149   no  \n",
       "2      0     184.416084   no  \n",
       "3      0     188.707545   no  \n",
       "4      1     179.821083   no  "
      ]
     },
     "execution_count": 12,
     "metadata": {},
     "output_type": "execute_result"
    }
   ],
   "source": [
    "df.head()"
   ]
  },
  {
   "cell_type": "code",
   "execution_count": 13,
   "id": "c23a0bcc",
   "metadata": {},
   "outputs": [
    {
     "data": {
      "text/plain": [
       "array(['operations', 'support', 'logistics', 'sales', 'IT', 'admin',\n",
       "       'engineering', 'marketing', 'finance', 'retail'], dtype=object)"
      ]
     },
     "execution_count": 13,
     "metadata": {},
     "output_type": "execute_result"
    }
   ],
   "source": [
    "df['department'].unique()"
   ]
  },
  {
   "cell_type": "code",
   "execution_count": 14,
   "id": "bd7aedba",
   "metadata": {},
   "outputs": [
    {
     "data": {
      "text/plain": [
       "array(['low', 'medium', 'high'], dtype=object)"
      ]
     },
     "execution_count": 14,
     "metadata": {},
     "output_type": "execute_result"
    }
   ],
   "source": [
    "df['salary'].unique()"
   ]
  },
  {
   "cell_type": "code",
   "execution_count": 15,
   "id": "a36d3707",
   "metadata": {},
   "outputs": [
    {
     "data": {
      "text/plain": [
       "array([0, 1], dtype=int64)"
      ]
     },
     "execution_count": 15,
     "metadata": {},
     "output_type": "execute_result"
    }
   ],
   "source": [
    "df['promoted'].unique()"
   ]
  },
  {
   "cell_type": "code",
   "execution_count": 16,
   "id": "2430e1d1",
   "metadata": {},
   "outputs": [
    {
     "data": {
      "text/plain": [
       "array([0, 1], dtype=int64)"
      ]
     },
     "execution_count": 16,
     "metadata": {},
     "output_type": "execute_result"
    }
   ],
   "source": [
    "df['bonus'].unique()"
   ]
  },
  {
   "cell_type": "code",
   "execution_count": 18,
   "id": "886a388a",
   "metadata": {},
   "outputs": [
    {
     "data": {
      "image/png": "[encoded data removed]",
      "text/plain": [
       "<Figure size 1440x864 with 4 Axes>"
      ]
     },
     "metadata": {
      "needs_background": "light"
     },
     "output_type": "display_data"
    },
    {
     "data": {
      "image/png": "[encoded data removed]",
      "text/plain": [
       "<Figure size 720x360 with 1 Axes>"
      ]
     },
     "metadata": {
      "needs_background": "light"
     },
     "output_type": "display_data"
    }
   ],
   "source": [
    "plt.figure(figsize=(20,12))\n",
    "\n",
    "plt.subplot(2,2,1)\n",
    "sns.countplot(x=df['salary'])\n",
    "\n",
    "plt.subplot(2,2,2)\n",
    "sns.countplot(x=df['promoted'])\n",
    "\n",
    "plt.subplot(2,2,3)\n",
    "sns.countplot(x=df['bonus'])\n",
    "\n",
    "plt.subplot(2,2,4)\n",
    "sns.countplot(x=df['left'])\n",
    "\n",
    "plt.figure(figsize=(10,5))\n",
    "sns.countplot(x=df['department'])\n",
    "\n",
    "plt.show()"
   ]
  },
  {
   "cell_type": "code",
   "execution_count": 22,
   "id": "b8c5ef7b",
   "metadata": {},
   "outputs": [
    {
     "data": {
      "text/plain": [
       "<AxesSubplot:xlabel='review', ylabel='Count'>"
      ]
     },
     "execution_count": 22,
     "metadata": {},
     "output_type": "execute_result"
    },
    {
     "data": {
      "image/png": "[encoded data removed]",
      "text/plain": [
       "<Figure size 432x288 with 1 Axes>"
      ]
     },
     "metadata": {
      "needs_background": "light"
     },
     "output_type": "display_data"
    }
   ],
   "source": [
    "sns.histplot(x=df['review'])"
   ]
  },
  {
   "cell_type": "code",
   "execution_count": 23,
   "id": "62a08cbd",
   "metadata": {},
   "outputs": [
    {
     "data": {
      "text/plain": [
       "<AxesSubplot:xlabel='tenure', ylabel='Count'>"
      ]
     },
     "execution_count": 23,
     "metadata": {},
     "output_type": "execute_result"
    },
    {
     "data": {
      "image/png": "[encoded data removed]",
      "text/plain": [
       "<Figure size 432x288 with 1 Axes>"
      ]
     },
     "metadata": {
      "needs_background": "light"
     },
     "output_type": "display_data"
    }
   ],
   "source": [
    "sns.histplot(x=df['tenure'],bins=12,binwidth=1)"
   ]
  },
  {
   "cell_type": "code",
   "execution_count": 24,
   "id": "69dca0d9",
   "metadata": {},
   "outputs": [
    {
     "data": {
      "text/plain": [
       "<AxesSubplot:xlabel='satisfaction', ylabel='Count'>"
      ]
     },
     "execution_count": 24,
     "metadata": {},
     "output_type": "execute_result"
    },
    {
     "data": {
      "image/png": "[encoded data removed]",
      "text/plain": [
       "<Figure size 432x288 with 1 Axes>"
      ]
     },
     "metadata": {
      "needs_background": "light"
     },
     "output_type": "display_data"
    }
   ],
   "source": [
    "sns.histplot(x=df['satisfaction'])"
   ]
  },
  {
   "cell_type": "code",
   "execution_count": 25,
   "id": "e340e54e",
   "metadata": {},
   "outputs": [
    {
     "data": {
      "text/plain": [
       "<AxesSubplot:xlabel='avg_hrs_month', ylabel='Count'>"
      ]
     },
     "execution_count": 25,
     "metadata": {},
     "output_type": "execute_result"
    },
    {
     "data": {
      "image/png": "[encoded data removed]",
      "text/plain": [
       "<Figure size 432x288 with 1 Axes>"
      ]
     },
     "metadata": {
      "needs_background": "light"
     },
     "output_type": "display_data"
    }
   ],
   "source": [
    "sns.histplot(x=df['avg_hrs_month'])"
   ]
  },
  {
   "cell_type": "code",
   "execution_count": 3,
   "id": "017ca0df",
   "metadata": {},
   "outputs": [],
   "source": [
    "x = df.drop(columns=['left'])\n",
    "y = df['left']"
   ]
  },
  {
   "cell_type": "code",
   "execution_count": 4,
   "id": "c259e9e4",
   "metadata": {},
   "outputs": [],
   "source": [
    "x_train, x_test, y_train, y_test = train_test_split(x,y,test_size=0.2, random_state=1)"
   ]
  },
  {
   "cell_type": "code",
   "execution_count": 23,
   "id": "15ded4a8",
   "metadata": {},
   "outputs": [
    {
     "data": {
      "text/plain": [
       "array([0, 0, 0, ..., 0, 0, 0])"
      ]
     },
     "execution_count": 23,
     "metadata": {},
     "output_type": "execute_result"
    }
   ],
   "source": [
    "y_train"
   ]
  },
  {
   "cell_type": "code",
   "execution_count": 5,
   "id": "46e1ac7c",
   "metadata": {},
   "outputs": [],
   "source": [
    "le = LabelEncoder()\n",
    "\n",
    "y_train = le.fit_transform(y_train)\n",
    "y_test = le.transform(y_test)"
   ]
  },
  {
   "cell_type": "code",
   "execution_count": 6,
   "id": "e358bea0",
   "metadata": {},
   "outputs": [],
   "source": [
    "traf1 = ColumnTransformer([\n",
    "    ('ordinal_encoding_salary', OrdinalEncoder(categories= [['low','medium','high']]),[4]),\n",
    "    ('one_hot_encoding_department', OneHotEncoder(sparse=False), [0])\n",
    "], remainder = 'passthrough')"
   ]
  },
  {
   "cell_type": "code",
   "execution_count": 7,
   "id": "bcd436ad",
   "metadata": {},
   "outputs": [],
   "source": [
    "traf2 = ColumnTransformer([\n",
    "    ('standard_scales', StandardScaler(),slice(0,18))\n",
    "], remainder = 'passthrough')"
   ]
  },
  {
   "cell_type": "code",
   "execution_count": 8,
   "id": "9edd9489",
   "metadata": {},
   "outputs": [],
   "source": [
    "traf3 = SelectKBest(k=10)"
   ]
  },
  {
   "cell_type": "code",
   "execution_count": 9,
   "id": "0849a155",
   "metadata": {},
   "outputs": [],
   "source": [
    "traf4 = HistGradientBoostingClassifier()"
   ]
  },
  {
   "cell_type": "code",
   "execution_count": 10,
   "id": "5dc0fce9",
   "metadata": {},
   "outputs": [],
   "source": [
    "pipe = Pipeline([\n",
    "    ('traf1',traf1),\n",
    "    ('traf2',traf2),\n",
    "    ('traf3',traf3),\n",
    "    ('traf4',traf4)\n",
    "])"
   ]
  },
  {
   "cell_type": "code",
   "execution_count": 11,
   "id": "b3074f6c",
   "metadata": {},
   "outputs": [
    {
     "data": {
      "text/html": [
       "<style>#sk-container-id-1 {color: black;background-color: white;}#sk-container-id-1 pre{padding: 0;}#sk-container-id-1 div.sk-toggleable {background-color: white;}#sk-container-id-1 label.sk-toggleable__label {cursor: pointer;display: block;width: 100%;margin-bottom: 0;padding: 0.3em;box-sizing: border-box;text-align: center;}#sk-container-id-1 label.sk-toggleable__label-arrow:before {content: \"▸\";float: left;margin-right: 0.25em;color: #696969;}#sk-container-id-1 label.sk-toggleable__label-arrow:hover:before {color: black;}#sk-container-id-1 div.sk-estimator:hover label.sk-toggleable__label-arrow:before {color: black;}#sk-container-id-1 div.sk-toggleable__content {max-height: 0;max-width: 0;overflow: hidden;text-align: left;background-color: #f0f8ff;}#sk-container-id-1 div.sk-toggleable__content pre {margin: 0.2em;color: black;border-radius: 0.25em;background-color: #f0f8ff;}#sk-container-id-1 input.sk-toggleable__control:checked~div.sk-toggleable__content {max-height: 200px;max-width: 100%;overflow: auto;}#sk-container-id-1 input.sk-toggleable__control:checked~label.sk-toggleable__label-arrow:before {content: \"▾\";}#sk-container-id-1 div.sk-estimator input.sk-toggleable__control:checked~label.sk-toggleable__label {background-color: #d4ebff;}#sk-container-id-1 div.sk-label input.sk-toggleable__control:checked~label.sk-toggleable__label {background-color: #d4ebff;}#sk-container-id-1 input.sk-hidden--visually {border: 0;clip: rect(1px 1px 1px 1px);clip: rect(1px, 1px, 1px, 1px);height: 1px;margin: -1px;overflow: hidden;padding: 0;position: absolute;width: 1px;}#sk-container-id-1 div.sk-estimator {font-family: monospace;background-color: #f0f8ff;border: 1px dotted black;border-radius: 0.25em;box-sizing: border-box;margin-bottom: 0.5em;}#sk-container-id-1 div.sk-estimator:hover {background-color: #d4ebff;}#sk-container-id-1 div.sk-parallel-item::after {content: \"\";width: 100%;border-bottom: 1px solid gray;flex-grow: 1;}#sk-container-id-1 div.sk-label:hover label.sk-toggleable__label {background-color: #d4ebff;}#sk-container-id-1 div.sk-serial::before {content: \"\";position: absolute;border-left: 1px solid gray;box-sizing: border-box;top: 0;bottom: 0;left: 50%;z-index: 0;}#sk-container-id-1 div.sk-serial {display: flex;flex-direction: column;align-items: center;background-color: white;padding-right: 0.2em;padding-left: 0.2em;position: relative;}#sk-container-id-1 div.sk-item {position: relative;z-index: 1;}#sk-container-id-1 div.sk-parallel {display: flex;align-items: stretch;justify-content: center;background-color: white;position: relative;}#sk-container-id-1 div.sk-item::before, #sk-container-id-1 div.sk-parallel-item::before {content: \"\";position: absolute;border-left: 1px solid gray;box-sizing: border-box;top: 0;bottom: 0;left: 50%;z-index: -1;}#sk-container-id-1 div.sk-parallel-item {display: flex;flex-direction: column;z-index: 1;position: relative;background-color: white;}#sk-container-id-1 div.sk-parallel-item:first-child::after {align-self: flex-end;width: 50%;}#sk-container-id-1 div.sk-parallel-item:last-child::after {align-self: flex-start;width: 50%;}#sk-container-id-1 div.sk-parallel-item:only-child::after {width: 0;}#sk-container-id-1 div.sk-dashed-wrapped {border: 1px dashed gray;margin: 0 0.4em 0.5em 0.4em;box-sizing: border-box;padding-bottom: 0.4em;background-color: white;}#sk-container-id-1 div.sk-label label {font-family: monospace;font-weight: bold;display: inline-block;line-height: 1.2em;}#sk-container-id-1 div.sk-label-container {text-align: center;}#sk-container-id-1 div.sk-container {/* jupyter's `normalize.less` sets `[hidden] { display: none; }` but bootstrap.min.css set `[hidden] { display: none !important; }` so we also need the `!important` here to be able to override the default hidden behavior on the sphinx rendered scikit-learn.org. See: https://github.com/scikit-learn/scikit-learn/issues/21755 */display: inline-block !important;position: relative;}#sk-container-id-1 div.sk-text-repr-fallback {display: none;}</style><div id=\"sk-container-id-1\" class=\"sk-top-container\"><div class=\"sk-text-repr-fallback\"><pre>Pipeline(steps=[(&#x27;traf1&#x27;,\n",
       "                 ColumnTransformer(remainder=&#x27;passthrough&#x27;,\n",
       "                                   transformers=[(&#x27;ordinal_encoding_salary&#x27;,\n",
       "                                                  OrdinalEncoder(categories=[[&#x27;low&#x27;,\n",
       "                                                                              &#x27;medium&#x27;,\n",
       "                                                                              &#x27;high&#x27;]]),\n",
       "                                                  [4]),\n",
       "                                                 (&#x27;one_hot_encoding_department&#x27;,\n",
       "                                                  OneHotEncoder(sparse=False),\n",
       "                                                  [0])])),\n",
       "                (&#x27;traf2&#x27;,\n",
       "                 ColumnTransformer(remainder=&#x27;passthrough&#x27;,\n",
       "                                   transformers=[(&#x27;standard_scales&#x27;,\n",
       "                                                  StandardScaler(),\n",
       "                                                  slice(0, 18, None))])),\n",
       "                (&#x27;traf3&#x27;, SelectKBest()),\n",
       "                (&#x27;traf4&#x27;, HistGradientBoostingClassifier())])</pre><b>In a Jupyter environment, please rerun this cell to show the HTML representation or trust the notebook. <br />On GitHub, the HTML representation is unable to render, please try loading this page with nbviewer.org.</b></div><div class=\"sk-container\" hidden><div class=\"sk-item sk-dashed-wrapped\"><div class=\"sk-label-container\"><div class=\"sk-label sk-toggleable\"><input class=\"sk-toggleable__control sk-hidden--visually\" id=\"sk-estimator-id-1\" type=\"checkbox\" ><label for=\"sk-estimator-id-1\" class=\"sk-toggleable__label sk-toggleable__label-arrow\">Pipeline</label><div class=\"sk-toggleable__content\"><pre>Pipeline(steps=[(&#x27;traf1&#x27;,\n",
       "                 ColumnTransformer(remainder=&#x27;passthrough&#x27;,\n",
       "                                   transformers=[(&#x27;ordinal_encoding_salary&#x27;,\n",
       "                                                  OrdinalEncoder(categories=[[&#x27;low&#x27;,\n",
       "                                                                              &#x27;medium&#x27;,\n",
       "                                                                              &#x27;high&#x27;]]),\n",
       "                                                  [4]),\n",
       "                                                 (&#x27;one_hot_encoding_department&#x27;,\n",
       "                                                  OneHotEncoder(sparse=False),\n",
       "                                                  [0])])),\n",
       "                (&#x27;traf2&#x27;,\n",
       "                 ColumnTransformer(remainder=&#x27;passthrough&#x27;,\n",
       "                                   transformers=[(&#x27;standard_scales&#x27;,\n",
       "                                                  StandardScaler(),\n",
       "                                                  slice(0, 18, None))])),\n",
       "                (&#x27;traf3&#x27;, SelectKBest()),\n",
       "                (&#x27;traf4&#x27;, HistGradientBoostingClassifier())])</pre></div></div></div><div class=\"sk-serial\"><div class=\"sk-item sk-dashed-wrapped\"><div class=\"sk-label-container\"><div class=\"sk-label sk-toggleable\"><input class=\"sk-toggleable__control sk-hidden--visually\" id=\"sk-estimator-id-2\" type=\"checkbox\" ><label for=\"sk-estimator-id-2\" class=\"sk-toggleable__label sk-toggleable__label-arrow\">traf1: ColumnTransformer</label><div class=\"sk-toggleable__content\"><pre>ColumnTransformer(remainder=&#x27;passthrough&#x27;,\n",
       "                  transformers=[(&#x27;ordinal_encoding_salary&#x27;,\n",
       "                                 OrdinalEncoder(categories=[[&#x27;low&#x27;, &#x27;medium&#x27;,\n",
       "                                                             &#x27;high&#x27;]]),\n",
       "                                 [4]),\n",
       "                                (&#x27;one_hot_encoding_department&#x27;,\n",
       "                                 OneHotEncoder(sparse=False), [0])])</pre></div></div></div><div class=\"sk-parallel\"><div class=\"sk-parallel-item\"><div class=\"sk-item\"><div class=\"sk-label-container\"><div class=\"sk-label sk-toggleable\"><input class=\"sk-toggleable__control sk-hidden--visually\" id=\"sk-estimator-id-3\" type=\"checkbox\" ><label for=\"sk-estimator-id-3\" class=\"sk-toggleable__label sk-toggleable__label-arrow\">ordinal_encoding_salary</label><div class=\"sk-toggleable__content\"><pre>[4]</pre></div></div></div><div class=\"sk-serial\"><div class=\"sk-item\"><div class=\"sk-estimator sk-toggleable\"><input class=\"sk-toggleable__control sk-hidden--visually\" id=\"sk-estimator-id-4\" type=\"checkbox\" ><label for=\"sk-estimator-id-4\" class=\"sk-toggleable__label sk-toggleable__label-arrow\">OrdinalEncoder</label><div class=\"sk-toggleable__content\"><pre>OrdinalEncoder(categories=[[&#x27;low&#x27;, &#x27;medium&#x27;, &#x27;high&#x27;]])</pre></div></div></div></div></div></div><div class=\"sk-parallel-item\"><div class=\"sk-item\"><div class=\"sk-label-container\"><div class=\"sk-label sk-toggleable\"><input class=\"sk-toggleable__control sk-hidden--visually\" id=\"sk-estimator-id-5\" type=\"checkbox\" ><label for=\"sk-estimator-id-5\" class=\"sk-toggleable__label sk-toggleable__label-arrow\">one_hot_encoding_department</label><div class=\"sk-toggleable__content\"><pre>[0]</pre></div></div></div><div class=\"sk-serial\"><div class=\"sk-item\"><div class=\"sk-estimator sk-toggleable\"><input class=\"sk-toggleable__control sk-hidden--visually\" id=\"sk-estimator-id-6\" type=\"checkbox\" ><label for=\"sk-estimator-id-6\" class=\"sk-toggleable__label sk-toggleable__label-arrow\">OneHotEncoder</label><div class=\"sk-toggleable__content\"><pre>OneHotEncoder(sparse=False)</pre></div></div></div></div></div></div><div class=\"sk-parallel-item\"><div class=\"sk-item\"><div class=\"sk-label-container\"><div class=\"sk-label sk-toggleable\"><input class=\"sk-toggleable__control sk-hidden--visually\" id=\"sk-estimator-id-7\" type=\"checkbox\" ><label for=\"sk-estimator-id-7\" class=\"sk-toggleable__label sk-toggleable__label-arrow\">remainder</label><div class=\"sk-toggleable__content\"><pre>[&#x27;promoted&#x27;, &#x27;review&#x27;, &#x27;projects&#x27;, &#x27;tenure&#x27;, &#x27;satisfaction&#x27;, &#x27;bonus&#x27;, &#x27;avg_hrs_month&#x27;]</pre></div></div></div><div class=\"sk-serial\"><div class=\"sk-item\"><div class=\"sk-estimator sk-toggleable\"><input class=\"sk-toggleable__control sk-hidden--visually\" id=\"sk-estimator-id-8\" type=\"checkbox\" ><label for=\"sk-estimator-id-8\" class=\"sk-toggleable__label sk-toggleable__label-arrow\">passthrough</label><div class=\"sk-toggleable__content\"><pre>passthrough</pre></div></div></div></div></div></div></div></div><div class=\"sk-item sk-dashed-wrapped\"><div class=\"sk-label-container\"><div class=\"sk-label sk-toggleable\"><input class=\"sk-toggleable__control sk-hidden--visually\" id=\"sk-estimator-id-9\" type=\"checkbox\" ><label for=\"sk-estimator-id-9\" class=\"sk-toggleable__label sk-toggleable__label-arrow\">traf2: ColumnTransformer</label><div class=\"sk-toggleable__content\"><pre>ColumnTransformer(remainder=&#x27;passthrough&#x27;,\n",
       "                  transformers=[(&#x27;standard_scales&#x27;, StandardScaler(),\n",
       "                                 slice(0, 18, None))])</pre></div></div></div><div class=\"sk-parallel\"><div class=\"sk-parallel-item\"><div class=\"sk-item\"><div class=\"sk-label-container\"><div class=\"sk-label sk-toggleable\"><input class=\"sk-toggleable__control sk-hidden--visually\" id=\"sk-estimator-id-10\" type=\"checkbox\" ><label for=\"sk-estimator-id-10\" class=\"sk-toggleable__label sk-toggleable__label-arrow\">standard_scales</label><div class=\"sk-toggleable__content\"><pre>slice(0, 18, None)</pre></div></div></div><div class=\"sk-serial\"><div class=\"sk-item\"><div class=\"sk-estimator sk-toggleable\"><input class=\"sk-toggleable__control sk-hidden--visually\" id=\"sk-estimator-id-11\" type=\"checkbox\" ><label for=\"sk-estimator-id-11\" class=\"sk-toggleable__label sk-toggleable__label-arrow\">StandardScaler</label><div class=\"sk-toggleable__content\"><pre>StandardScaler()</pre></div></div></div></div></div></div><div class=\"sk-parallel-item\"><div class=\"sk-item\"><div class=\"sk-label-container\"><div class=\"sk-label sk-toggleable\"><input class=\"sk-toggleable__control sk-hidden--visually\" id=\"sk-estimator-id-12\" type=\"checkbox\" ><label for=\"sk-estimator-id-12\" class=\"sk-toggleable__label sk-toggleable__label-arrow\">remainder</label><div class=\"sk-toggleable__content\"><pre>[]</pre></div></div></div><div class=\"sk-serial\"><div class=\"sk-item\"><div class=\"sk-estimator sk-toggleable\"><input class=\"sk-toggleable__control sk-hidden--visually\" id=\"sk-estimator-id-13\" type=\"checkbox\" ><label for=\"sk-estimator-id-13\" class=\"sk-toggleable__label sk-toggleable__label-arrow\">passthrough</label><div class=\"sk-toggleable__content\"><pre>passthrough</pre></div></div></div></div></div></div></div></div><div class=\"sk-item\"><div class=\"sk-estimator sk-toggleable\"><input class=\"sk-toggleable__control sk-hidden--visually\" id=\"sk-estimator-id-14\" type=\"checkbox\" ><label for=\"sk-estimator-id-14\" class=\"sk-toggleable__label sk-toggleable__label-arrow\">SelectKBest</label><div class=\"sk-toggleable__content\"><pre>SelectKBest()</pre></div></div></div><div class=\"sk-item\"><div class=\"sk-estimator sk-toggleable\"><input class=\"sk-toggleable__control sk-hidden--visually\" id=\"sk-estimator-id-15\" type=\"checkbox\" ><label for=\"sk-estimator-id-15\" class=\"sk-toggleable__label sk-toggleable__label-arrow\">HistGradientBoostingClassifier</label><div class=\"sk-toggleable__content\"><pre>HistGradientBoostingClassifier()</pre></div></div></div></div></div></div></div>"
      ],
      "text/plain": [
       "Pipeline(steps=[('traf1',\n",
       "                 ColumnTransformer(remainder='passthrough',\n",
       "                                   transformers=[('ordinal_encoding_salary',\n",
       "                                                  OrdinalEncoder(categories=[['low',\n",
       "                                                                              'medium',\n",
       "                                                                              'high']]),\n",
       "                                                  [4]),\n",
       "                                                 ('one_hot_encoding_department',\n",
       "                                                  OneHotEncoder(sparse=False),\n",
       "                                                  [0])])),\n",
       "                ('traf2',\n",
       "                 ColumnTransformer(remainder='passthrough',\n",
       "                                   transformers=[('standard_scales',\n",
       "                                                  StandardScaler(),\n",
       "                                                  slice(0, 18, None))])),\n",
       "                ('traf3', SelectKBest()),\n",
       "                ('traf4', HistGradientBoostingClassifier())])"
      ]
     },
     "execution_count": 11,
     "metadata": {},
     "output_type": "execute_result"
    }
   ],
   "source": [
    "pipe.fit(x_train,y_train)"
   ]
  },
  {
   "cell_type": "code",
   "execution_count": 14,
   "id": "dea1f0fb",
   "metadata": {},
   "outputs": [],
   "source": [
    "\n",
    "\n",
    "pipeline = pickle.dump(pipe,open(\"pipeline.pkl\",\"wb\"))"
   ]
  },
  {
   "cell_type": "code",
   "execution_count": 15,
   "id": "4b9694fe",
   "metadata": {},
   "outputs": [
    {
     "name": "stdout",
     "output_type": "stream",
     "text": [
      "0\n"
     ]
    },
    {
     "name": "stderr",
     "output_type": "stream",
     "text": [
      "C:\\Users\\abc\\anaconda3\\lib\\site-packages\\sklearn\\base.py:450: UserWarning: X does not have valid feature names, but OrdinalEncoder was fitted with feature names\n",
      "  warnings.warn(\n",
      "C:\\Users\\abc\\anaconda3\\lib\\site-packages\\sklearn\\base.py:450: UserWarning: X does not have valid feature names, but OneHotEncoder was fitted with feature names\n",
      "  warnings.warn(\n"
     ]
    }
   ],
   "source": [
    "import pickle\n",
    "pipeline = pickle.load(open(\"pipeline.pkl\",\"rb\"))\n",
    "test = pipeline.predict([['operations',0,0.57,3,'low',5,0.62,0,180]])\n",
    "print(test[0])\n"
   ]
  },
  {
   "cell_type": "code",
   "execution_count": 24,
   "id": "28f9da0b",
   "metadata": {},
   "outputs": [
    {
     "data": {
      "text/html": [
       "<div>\n",
       "<style scoped>\n",
       "    .dataframe tbody tr th:only-of-type {\n",
       "        vertical-align: middle;\n",
       "    }\n",
       "\n",
       "    .dataframe tbody tr th {\n",
       "        vertical-align: top;\n",
       "    }\n",
       "\n",
       "    .dataframe thead th {\n",
       "        text-align: right;\n",
       "    }\n",
       "</style>\n",
       "<table border=\"1\" class=\"dataframe\">\n",
       "  <thead>\n",
       "    <tr style=\"text-align: right;\">\n",
       "      <th></th>\n",
       "      <th>department</th>\n",
       "      <th>promoted</th>\n",
       "      <th>review</th>\n",
       "      <th>projects</th>\n",
       "      <th>salary</th>\n",
       "      <th>tenure</th>\n",
       "      <th>satisfaction</th>\n",
       "      <th>bonus</th>\n",
       "      <th>avg_hrs_month</th>\n",
       "      <th>left</th>\n",
       "    </tr>\n",
       "  </thead>\n",
       "  <tbody>\n",
       "    <tr>\n",
       "      <th>0</th>\n",
       "      <td>operations</td>\n",
       "      <td>0</td>\n",
       "      <td>0.577569</td>\n",
       "      <td>3</td>\n",
       "      <td>low</td>\n",
       "      <td>5.0</td>\n",
       "      <td>0.626759</td>\n",
       "      <td>0</td>\n",
       "      <td>180.866070</td>\n",
       "      <td>no</td>\n",
       "    </tr>\n",
       "    <tr>\n",
       "      <th>1</th>\n",
       "      <td>operations</td>\n",
       "      <td>0</td>\n",
       "      <td>0.751900</td>\n",
       "      <td>3</td>\n",
       "      <td>medium</td>\n",
       "      <td>6.0</td>\n",
       "      <td>0.443679</td>\n",
       "      <td>0</td>\n",
       "      <td>182.708149</td>\n",
       "      <td>no</td>\n",
       "    </tr>\n",
       "    <tr>\n",
       "      <th>2</th>\n",
       "      <td>support</td>\n",
       "      <td>0</td>\n",
       "      <td>0.722548</td>\n",
       "      <td>3</td>\n",
       "      <td>medium</td>\n",
       "      <td>6.0</td>\n",
       "      <td>0.446823</td>\n",
       "      <td>0</td>\n",
       "      <td>184.416084</td>\n",
       "      <td>no</td>\n",
       "    </tr>\n",
       "    <tr>\n",
       "      <th>3</th>\n",
       "      <td>logistics</td>\n",
       "      <td>0</td>\n",
       "      <td>0.675158</td>\n",
       "      <td>4</td>\n",
       "      <td>high</td>\n",
       "      <td>8.0</td>\n",
       "      <td>0.440139</td>\n",
       "      <td>0</td>\n",
       "      <td>188.707545</td>\n",
       "      <td>no</td>\n",
       "    </tr>\n",
       "    <tr>\n",
       "      <th>4</th>\n",
       "      <td>sales</td>\n",
       "      <td>0</td>\n",
       "      <td>0.676203</td>\n",
       "      <td>3</td>\n",
       "      <td>high</td>\n",
       "      <td>5.0</td>\n",
       "      <td>0.577607</td>\n",
       "      <td>1</td>\n",
       "      <td>179.821083</td>\n",
       "      <td>no</td>\n",
       "    </tr>\n",
       "  </tbody>\n",
       "</table>\n",
       "</div>"
      ],
      "text/plain": [
       "   department  promoted    review  projects  salary  tenure  satisfaction  \\\n",
       "0  operations         0  0.577569         3     low     5.0      0.626759   \n",
       "1  operations         0  0.751900         3  medium     6.0      0.443679   \n",
       "2     support         0  0.722548         3  medium     6.0      0.446823   \n",
       "3   logistics         0  0.675158         4    high     8.0      0.440139   \n",
       "4       sales         0  0.676203         3    high     5.0      0.577607   \n",
       "\n",
       "   bonus  avg_hrs_month left  \n",
       "0      0     180.866070   no  \n",
       "1      0     182.708149   no  \n",
       "2      0     184.416084   no  \n",
       "3      0     188.707545   no  \n",
       "4      1     179.821083   no  "
      ]
     },
     "execution_count": 24,
     "metadata": {},
     "output_type": "execute_result"
    }
   ],
   "source": [
    "df.head()"
   ]
  },
  {
   "cell_type": "code",
   "execution_count": 72,
   "id": "11af6621",
   "metadata": {},
   "outputs": [
    {
     "name": "stdout",
     "output_type": "stream",
     "text": [
      "0 -0.0171\n",
      "1 0.0055\n",
      "2 -0.0063\n",
      "3 -0.0054\n",
      "4 -0.0017\n",
      "5 0.0187\n",
      "6 0.0155\n",
      "7 -0.0181\n",
      "8 0.0225\n",
      "9 -0.0171\n",
      "10 -0.0006\n",
      "11 -0.0832\n",
      "12 0.9582\n",
      "13 -0.0621\n",
      "14 0.1217\n",
      "15 0.3926\n",
      "16 -0.03\n",
      "17 0.1512\n"
     ]
    }
   ],
   "source": [
    "lr = LogisticRegression()\n",
    "\n",
    "lr.fit(X,y_train)\n",
    "\n",
    "y_pred = lr.predict(test)\n",
    "# print(lr.coef_[0][1])\n",
    "for i in range(len(lr.coef_[0])):\n",
    "    print(i,round(lr.coef_[0][i],4))\n",
    "# print(\"Confusion Matrix :\", confusion_matrix(y_test,y_pred))\n",
    "# print(\"Accuracy Score :\", accuracy_score(y_test,y_pred))\n",
    "# print(\"ROC AUC Score :\", roc_auc_score(y_test,y_pred))\n",
    "\n",
    "# Confusion Matrix : [[1270   76]\n",
    "#  [ 416  146]]\n",
    "# Accuracy Score : 0.7421383647798742\n",
    "# ROC AUC Score : 0.6016614405144014"
   ]
  },
  {
   "cell_type": "code",
   "execution_count": 70,
   "id": "fcc0b9aa",
   "metadata": {},
   "outputs": [
    {
     "data": {
      "text/plain": [
       "18"
      ]
     },
     "execution_count": 70,
     "metadata": {},
     "output_type": "execute_result"
    }
   ],
   "source": [
    "len(lr.coef_[0])"
   ]
  },
  {
   "cell_type": "code",
   "execution_count": 43,
   "id": "c96cfb18",
   "metadata": {},
   "outputs": [
    {
     "data": {
      "text/plain": [
       "array([0])"
      ]
     },
     "execution_count": 43,
     "metadata": {},
     "output_type": "execute_result"
    }
   ],
   "source": [
    "svc = SVC()\n",
    "\n",
    "svc.fit(X,y_train)\n",
    "\n",
    "y_pred1 = svc.predict(test)\n",
    "y_pred1\n",
    "# print(\"Confusion Matrix :\", confusion_matrix(y_test,y_pred1))\n",
    "# print(\"Accuracy Score :\", accuracy_score(y_test,y_pred1))\n",
    "# print(\"ROC AUC Score :\", roc_auc_score(y_test,y_pred1))"
   ]
  },
  {
   "cell_type": "code",
   "execution_count": 44,
   "id": "31e753d7",
   "metadata": {},
   "outputs": [
    {
     "data": {
      "text/plain": [
       "array([0])"
      ]
     },
     "execution_count": 44,
     "metadata": {},
     "output_type": "execute_result"
    }
   ],
   "source": [
    "knc = KNeighborsClassifier()\n",
    "\n",
    "knc.fit(X,y_train)\n",
    "\n",
    "y_pred2 = knc.predict(test)\n",
    "y_pred2\n",
    "# print(\"Confusion Matrix :\", confusion_matrix(y_test,y_pred2))\n",
    "# print(\"Accuracy Score :\", accuracy_score(y_test,y_pred2))\n",
    "# print(\"ROC AUC Score :\", roc_auc_score(y_test,y_pred2))"
   ]
  },
  {
   "cell_type": "code",
   "execution_count": null,
   "id": "d26af172",
   "metadata": {},
   "outputs": [],
   "source": [
    "dtc = DecisionTreeClassifier(max_depth=7)\n",
    "\n",
    "dtc.fit(X,y_train)\n",
    "\n",
    "y_pred3 = dtc.predict(test)\n",
    "y_pred3\n",
    "# print(\"Confusion Matrix :\", confusion_matrix(y_test,y_pred3))\n",
    "# print(\"Accuracy Score :\", accuracy_score(y_test,y_pred3))\n",
    "# print(\"ROC AUC Score :\", roc_auc_score(y_test,y_pred3))"
   ]
  },
  {
   "cell_type": "code",
   "execution_count": null,
   "id": "02795472",
   "metadata": {},
   "outputs": [],
   "source": [
    "rfc = RandomForestClassifier()\n",
    "\n",
    "rfc.fit(X,y_train)\n",
    "\n",
    "y_pred4 = rfc.predict(test)\n",
    "y_pred4\n",
    "# print(\"Confusion Matrix :\", confusion_matrix(y_test,y_pred4))\n",
    "# print(\"Accuracy Score :\", accuracy_score(y_test,y_pred4))\n",
    "# print(\"ROC AUC Score :\", roc_auc_score(y_test,y_pred4))"
   ]
  },
  {
   "cell_type": "code",
   "execution_count": null,
   "id": "da6e7608",
   "metadata": {},
   "outputs": [],
   "source": [
    "gbc = GradientBoostingClassifier()\n",
    "\n",
    "gbc.fit(X,y_train)\n",
    "\n",
    "y_pred5 = gbc.predict(test)\n",
    "y_pred5\n",
    "# print(\"Confusion Matrix :\", confusion_matrix(y_test,y_pred5))\n",
    "# print(\"Accuracy Score :\", accuracy_score(y_test,y_pred5))\n",
    "# print(\"ROC AUC Score :\", roc_auc_score(y_test,y_pred5))"
   ]
  },
  {
   "cell_type": "code",
   "execution_count": null,
   "id": "3a7219c5",
   "metadata": {},
   "outputs": [],
   "source": [
    "\n",
    "\n",
    "hgbc = HistGradientBoostingClassifier()\n",
    "\n",
    "hgbc.fit(X,y_train)\n",
    "\n",
    "y_pred6 = hgbc.predict(test)\n",
    "y_pred6\n",
    "# print(\"Confusion Matrix :\", confusion_matrix(y_test,y_pred6))\n",
    "# print(\"Accuracy Score :\", accuracy_score(y_test,y_pred6))\n",
    "# print(\"ROC AUC Score :\", roc_auc_score(y_test,y_pred6))"
   ]
  },
  {
   "cell_type": "code",
   "execution_count": null,
   "id": "9be0ba0b",
   "metadata": {},
   "outputs": [],
   "source": [
    "from xgboost import XGBClassifier\n",
    "\n",
    "xgbc = XGBClassifier()\n",
    "\n",
    "xgbc.fit(x_train_traf,y_train)\n",
    "\n",
    "y_pred7 = xgbc.predict(x_test_traf)\n",
    "\n",
    "print(\"Confusion Matrix :\", confusion_matrix(y_test,y_pred7))\n",
    "print(\"Accuracy Score :\", accuracy_score(y_test,y_pred7))\n",
    "print(\"ROC AUC Score :\", roc_auc_score(y_test,y_pred7))"
   ]
  },
  {
   "cell_type": "code",
   "execution_count": null,
   "id": "b08a1a78",
   "metadata": {},
   "outputs": [],
   "source": [
    "from lightgbm import LGBMClassifier\n",
    "\n",
    "lgbmc = LGBMClassifier()\n",
    "\n",
    "lgbmc.fit(x_train_traf,y_train)\n",
    "\n",
    "y_pred8 = lgbmc.predict(x_test_traf)\n",
    "\n",
    "print(\"Confusion Matrix :\", confusion_matrix(y_test,y_pred8))\n",
    "print(\"Accuracy Score :\", accuracy_score(y_test,y_pred8))\n",
    "print(\"ROC AUC Score :\", roc_auc_score(y_test,y_pred8))"
   ]
  },
  {
   "cell_type": "code",
   "execution_count": null,
   "id": "8e691fbb",
   "metadata": {},
   "outputs": [],
   "source": [
    "from catboost import CatBoostClassifier\n",
    "\n",
    "cbc = CatBoostClassifier(verbose=0, n_estimators=175)\n",
    "\n",
    "cbc.fit(X,y_train)\n",
    "\n",
    "y_pred9 = cbc.predict(test)\n",
    "y_pred9\n",
    "print(\"Confusion Matrix :\", confusion_matrix(y_test,y_pred9))\n",
    "print(\"Accuracy Score :\", accuracy_score(y_test,y_pred9))\n",
    "print(\"ROC AUC Score :\", roc_auc_score(y_test,y_pred9))"
   ]
  },
  {
   "cell_type": "code",
   "execution_count": null,
   "id": "1d062f64",
   "metadata": {},
   "outputs": [],
   "source": [
    "from sklearn.ensemble import GradientBoostingClassifier\n",
    "from sklearn.model_selection import cross_val_score\n",
    "from sklearn.model_selection import RepeatedStratifiedKFold\n",
    "\n",
    "model = GradientBoostingClassifier()\n",
    "cv = RepeatedStratifiedKFold(n_splits=10, n_repeats=3, random_state=1)\n",
    "n_scores = cross_val_score(model, x_train_traf, y_train, scoring='accuracy', cv=cv, n_jobs=4, error_score='raise')\n",
    "print('Accuracy: %.3f (%.3f)' % (np.mean(n_scores), np.std(n_scores)))"
   ]
  },
  {
   "cell_type": "code",
   "execution_count": null,
   "id": "01fd3b8c",
   "metadata": {},
   "outputs": [],
   "source": [
    "cv = RepeatedStratifiedKFold(n_splits=10, n_repeats=3, random_state=1)\n",
    "n_scores = cross_val_score(cbc, x_train_traf, y_train, scoring='accuracy', cv=cv, n_jobs=4, error_score='raise')\n",
    "print('Accuracy: %.3f (%.3f)' % (np.mean(n_scores), np.std(n_scores)))"
   ]
  },
  {
   "cell_type": "code",
   "execution_count": null,
   "id": "17c5c042",
   "metadata": {},
   "outputs": [],
   "source": []
  }
 ],
 "metadata": {
  "kernelspec": {
   "display_name": "Python 3",
   "language": "python",
   "name": "python3"
  },
  "language_info": {
   "codemirror_mode": {
    "name": "ipython",
    "version": 3
   },
   "file_extension": ".py",
   "mimetype": "text/x-python",
   "name": "python",
   "nbconvert_exporter": "python",
   "pygments_lexer": "ipython3",
   "version": "3.8.8"
  }
 },
 "nbformat": 4,
 "nbformat_minor": 5
}
